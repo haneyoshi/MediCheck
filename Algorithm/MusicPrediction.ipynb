{
 "cells": [
  {
   "cell_type": "code",
   "execution_count": 28,
   "id": "16fbbbdc",
   "metadata": {},
   "outputs": [
    {
     "data": {
      "text/plain": [
       "0.75"
      ]
     },
     "execution_count": 28,
     "metadata": {},
     "output_type": "execute_result"
    }
   ],
   "source": [
    "import pandas as pd\n",
    "from sklearn.tree import DecisionTreeClassifier  \n",
    "from sklearn.model_selection import train_test_split\n",
    "from sklearn.metrics import accuracy_score\n",
    "import joblib\n",
    "\n",
    "data = pd.read_csv('music.csv')  \n",
    "X = data.drop(columns = 'genre')#takes all columns as \"X\" without \"genre\"  \n",
    "y = data['genre']  \n",
    "#save 20% of the data for testing\n",
    "X_train, X_test, y_train, y_test = train_test_split(X,y,test_size=0.2)\n",
    "  \n",
    "#create the black box\n",
    "model = DecisionTreeClassifier()  \n",
    "model.fit(X_train.values, y_train.values)#train the model with the x(input) and y(output) \n",
    "\n",
    "joblib.dump(model, \"musicPrediction_trained.joblib\")\n",
    "\n",
    "#test\n",
    "prediction = model.predict([[21,1],[22,0]])#takes a 2D array\n",
    "prediction  \n",
    "\n",
    "#use preserved testing data\n",
    "prediction = model.predict(X_test.values)  \n",
    "  \n",
    "score = accuracy_score(y_test, prediction)  \n",
    "score"
   ]
  },
  {
   "cell_type": "code",
   "execution_count": 29,
   "id": "206c5c53",
   "metadata": {},
   "outputs": [
    {
     "data": {
      "text/plain": [
       "array(['HipHop', 'Dance'], dtype=object)"
      ]
     },
     "execution_count": 29,
     "metadata": {},
     "output_type": "execute_result"
    }
   ],
   "source": [
    "#load the trained model to predict\n",
    "\n",
    "model  = joblib.load(\"musicPrediction_trained.joblib\")  \n",
    "\n",
    "#test\n",
    "prediction = model.predict([[21,1],[22,0]])\n",
    "prediction  "
   ]
  }
 ],
 "metadata": {
  "kernelspec": {
   "display_name": "Python 3 (ipykernel)",
   "language": "python",
   "name": "python3"
  },
  "language_info": {
   "codemirror_mode": {
    "name": "ipython",
    "version": 3
   },
   "file_extension": ".py",
   "mimetype": "text/x-python",
   "name": "python",
   "nbconvert_exporter": "python",
   "pygments_lexer": "ipython3",
   "version": "3.10.9"
  }
 },
 "nbformat": 4,
 "nbformat_minor": 5
}
